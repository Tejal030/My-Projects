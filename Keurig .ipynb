{
 "cells": [
  {
   "cell_type": "code",
   "execution_count": 34,
   "id": "b9acb906-b57c-4f91-b0a7-aec848bbeb39",
   "metadata": {},
   "outputs": [],
   "source": [
    "import pandas as pd\n",
    "import numpy as np\n",
    "import seaborn as sns\n",
    "import matplotlib.pyplot as plt\n",
    "from sklearn.preprocessing import LabelEncoder"
   ]
  },
  {
   "cell_type": "code",
   "execution_count": 8,
   "id": "f9001ffb-0d52-43db-8aaf-424b12d41b36",
   "metadata": {},
   "outputs": [],
   "source": [
    "datak =  pd.read_excel(\"/Users/tejalambilwade/Downloads/KickstarterData_Facts-1 (1).xlsx\")"
   ]
  },
  {
   "cell_type": "code",
   "execution_count": null,
   "id": "3531f896-614b-4123-bbb3-4bee5d1ea6f7",
   "metadata": {},
   "outputs": [],
   "source": [
    "# understanding the data "
   ]
  },
  {
   "cell_type": "code",
   "execution_count": 10,
   "id": "6391bf68-4c3c-41dc-a8a0-fc2f01b29b7c",
   "metadata": {},
   "outputs": [
    {
     "data": {
      "text/html": [
       "<div>\n",
       "<style scoped>\n",
       "    .dataframe tbody tr th:only-of-type {\n",
       "        vertical-align: middle;\n",
       "    }\n",
       "\n",
       "    .dataframe tbody tr th {\n",
       "        vertical-align: top;\n",
       "    }\n",
       "\n",
       "    .dataframe thead th {\n",
       "        text-align: right;\n",
       "    }\n",
       "</style>\n",
       "<table border=\"1\" class=\"dataframe\">\n",
       "  <thead>\n",
       "    <tr style=\"text-align: right;\">\n",
       "      <th></th>\n",
       "      <th>Donate ID</th>\n",
       "      <th>Donate Date</th>\n",
       "      <th>Gender</th>\n",
       "      <th>Deposit Amount</th>\n",
       "      <th>Preferred Color of Device</th>\n",
       "      <th>Ice Cream Products Consumed Per Week</th>\n",
       "      <th>Favorite Flavor Of Ice Cream</th>\n",
       "      <th>Donated To Kick Starter Before</th>\n",
       "      <th>Household Income</th>\n",
       "      <th>Do you own a Keurig</th>\n",
       "      <th>How many desserts do you eat a week</th>\n",
       "      <th>Purchased</th>\n",
       "    </tr>\n",
       "  </thead>\n",
       "  <tbody>\n",
       "    <tr>\n",
       "      <th>0</th>\n",
       "      <td>1</td>\n",
       "      <td>2019-07-01</td>\n",
       "      <td>female</td>\n",
       "      <td>100</td>\n",
       "      <td>white</td>\n",
       "      <td>4</td>\n",
       "      <td>vanilla</td>\n",
       "      <td>yes</td>\n",
       "      <td>&lt;50K</td>\n",
       "      <td>yes</td>\n",
       "      <td>7</td>\n",
       "      <td>0</td>\n",
       "    </tr>\n",
       "    <tr>\n",
       "      <th>1</th>\n",
       "      <td>2</td>\n",
       "      <td>2019-07-01</td>\n",
       "      <td>female</td>\n",
       "      <td>100</td>\n",
       "      <td>blue</td>\n",
       "      <td>5</td>\n",
       "      <td>vanilla</td>\n",
       "      <td>yes</td>\n",
       "      <td>&lt;50K</td>\n",
       "      <td>yes</td>\n",
       "      <td>5</td>\n",
       "      <td>1</td>\n",
       "    </tr>\n",
       "    <tr>\n",
       "      <th>2</th>\n",
       "      <td>3</td>\n",
       "      <td>2019-07-01</td>\n",
       "      <td>female</td>\n",
       "      <td>100</td>\n",
       "      <td>silver</td>\n",
       "      <td>6</td>\n",
       "      <td>vanilla</td>\n",
       "      <td>yes</td>\n",
       "      <td>&lt;50K</td>\n",
       "      <td>yes</td>\n",
       "      <td>6</td>\n",
       "      <td>1</td>\n",
       "    </tr>\n",
       "    <tr>\n",
       "      <th>3</th>\n",
       "      <td>4</td>\n",
       "      <td>2019-07-01</td>\n",
       "      <td>female</td>\n",
       "      <td>100</td>\n",
       "      <td>silver</td>\n",
       "      <td>5</td>\n",
       "      <td>vanilla</td>\n",
       "      <td>yes</td>\n",
       "      <td>&lt;50K</td>\n",
       "      <td>yes</td>\n",
       "      <td>5</td>\n",
       "      <td>1</td>\n",
       "    </tr>\n",
       "    <tr>\n",
       "      <th>4</th>\n",
       "      <td>5</td>\n",
       "      <td>2019-07-01</td>\n",
       "      <td>male</td>\n",
       "      <td>100</td>\n",
       "      <td>white</td>\n",
       "      <td>1</td>\n",
       "      <td>vanilla</td>\n",
       "      <td>yes</td>\n",
       "      <td>&lt;50K</td>\n",
       "      <td>yes</td>\n",
       "      <td>7</td>\n",
       "      <td>0</td>\n",
       "    </tr>\n",
       "  </tbody>\n",
       "</table>\n",
       "</div>"
      ],
      "text/plain": [
       "   Donate ID Donate Date  Gender  Deposit Amount Preferred Color of Device  \\\n",
       "0          1  2019-07-01  female             100                     white   \n",
       "1          2  2019-07-01  female             100                      blue   \n",
       "2          3  2019-07-01  female             100                    silver   \n",
       "3          4  2019-07-01  female             100                    silver   \n",
       "4          5  2019-07-01    male             100                     white   \n",
       "\n",
       "   Ice Cream Products Consumed Per Week Favorite Flavor Of Ice Cream  \\\n",
       "0                                     4                      vanilla   \n",
       "1                                     5                      vanilla   \n",
       "2                                     6                      vanilla   \n",
       "3                                     5                      vanilla   \n",
       "4                                     1                      vanilla   \n",
       "\n",
       "  Donated To Kick Starter Before Household Income Do you own a Keurig  \\\n",
       "0                            yes             <50K                 yes   \n",
       "1                            yes             <50K                 yes   \n",
       "2                            yes             <50K                 yes   \n",
       "3                            yes             <50K                 yes   \n",
       "4                            yes             <50K                 yes   \n",
       "\n",
       "   How many desserts do you eat a week  Purchased  \n",
       "0                                    7          0  \n",
       "1                                    5          1  \n",
       "2                                    6          1  \n",
       "3                                    5          1  \n",
       "4                                    7          0  "
      ]
     },
     "execution_count": 10,
     "metadata": {},
     "output_type": "execute_result"
    }
   ],
   "source": [
    "data.head()"
   ]
  },
  {
   "cell_type": "code",
   "execution_count": 11,
   "id": "d805780a-0ef3-4a42-b910-061e87755f31",
   "metadata": {},
   "outputs": [
    {
     "data": {
      "text/html": [
       "<div>\n",
       "<style scoped>\n",
       "    .dataframe tbody tr th:only-of-type {\n",
       "        vertical-align: middle;\n",
       "    }\n",
       "\n",
       "    .dataframe tbody tr th {\n",
       "        vertical-align: top;\n",
       "    }\n",
       "\n",
       "    .dataframe thead th {\n",
       "        text-align: right;\n",
       "    }\n",
       "</style>\n",
       "<table border=\"1\" class=\"dataframe\">\n",
       "  <thead>\n",
       "    <tr style=\"text-align: right;\">\n",
       "      <th></th>\n",
       "      <th>Donate ID</th>\n",
       "      <th>Donate Date</th>\n",
       "      <th>Gender</th>\n",
       "      <th>Deposit Amount</th>\n",
       "      <th>Preferred Color of Device</th>\n",
       "      <th>Ice Cream Products Consumed Per Week</th>\n",
       "      <th>Favorite Flavor Of Ice Cream</th>\n",
       "      <th>Donated To Kick Starter Before</th>\n",
       "      <th>Household Income</th>\n",
       "      <th>Do you own a Keurig</th>\n",
       "      <th>How many desserts do you eat a week</th>\n",
       "      <th>Purchased</th>\n",
       "    </tr>\n",
       "  </thead>\n",
       "  <tbody>\n",
       "    <tr>\n",
       "      <th>9995</th>\n",
       "      <td>9996</td>\n",
       "      <td>2019-07-09</td>\n",
       "      <td>male</td>\n",
       "      <td>100</td>\n",
       "      <td>black</td>\n",
       "      <td>4</td>\n",
       "      <td>chocolate</td>\n",
       "      <td>no</td>\n",
       "      <td>Not Reported</td>\n",
       "      <td>no</td>\n",
       "      <td>5</td>\n",
       "      <td>1</td>\n",
       "    </tr>\n",
       "    <tr>\n",
       "      <th>9996</th>\n",
       "      <td>9997</td>\n",
       "      <td>2019-07-09</td>\n",
       "      <td>male</td>\n",
       "      <td>100</td>\n",
       "      <td>silver</td>\n",
       "      <td>6</td>\n",
       "      <td>no preference</td>\n",
       "      <td>yes</td>\n",
       "      <td>Not Reported</td>\n",
       "      <td>yes</td>\n",
       "      <td>6</td>\n",
       "      <td>0</td>\n",
       "    </tr>\n",
       "    <tr>\n",
       "      <th>9997</th>\n",
       "      <td>9998</td>\n",
       "      <td>2019-07-09</td>\n",
       "      <td>male</td>\n",
       "      <td>0</td>\n",
       "      <td>blue</td>\n",
       "      <td>3</td>\n",
       "      <td>chocolate</td>\n",
       "      <td>yes</td>\n",
       "      <td>Not Reported</td>\n",
       "      <td>yes</td>\n",
       "      <td>5</td>\n",
       "      <td>0</td>\n",
       "    </tr>\n",
       "    <tr>\n",
       "      <th>9998</th>\n",
       "      <td>9999</td>\n",
       "      <td>2019-07-09</td>\n",
       "      <td>male</td>\n",
       "      <td>0</td>\n",
       "      <td>blue</td>\n",
       "      <td>6</td>\n",
       "      <td>vanilla</td>\n",
       "      <td>no</td>\n",
       "      <td>Not Reported</td>\n",
       "      <td>no</td>\n",
       "      <td>6</td>\n",
       "      <td>0</td>\n",
       "    </tr>\n",
       "    <tr>\n",
       "      <th>9999</th>\n",
       "      <td>10000</td>\n",
       "      <td>2019-07-09</td>\n",
       "      <td>male</td>\n",
       "      <td>1</td>\n",
       "      <td>black</td>\n",
       "      <td>7</td>\n",
       "      <td>chocolate</td>\n",
       "      <td>yes</td>\n",
       "      <td>Not Reported</td>\n",
       "      <td>yes</td>\n",
       "      <td>7</td>\n",
       "      <td>0</td>\n",
       "    </tr>\n",
       "  </tbody>\n",
       "</table>\n",
       "</div>"
      ],
      "text/plain": [
       "      Donate ID Donate Date Gender  Deposit Amount Preferred Color of Device  \\\n",
       "9995       9996  2019-07-09   male             100                     black   \n",
       "9996       9997  2019-07-09   male             100                    silver   \n",
       "9997       9998  2019-07-09   male               0                      blue   \n",
       "9998       9999  2019-07-09   male               0                      blue   \n",
       "9999      10000  2019-07-09   male               1                     black   \n",
       "\n",
       "      Ice Cream Products Consumed Per Week Favorite Flavor Of Ice Cream  \\\n",
       "9995                                     4                    chocolate   \n",
       "9996                                     6                no preference   \n",
       "9997                                     3                    chocolate   \n",
       "9998                                     6                      vanilla   \n",
       "9999                                     7                    chocolate   \n",
       "\n",
       "     Donated To Kick Starter Before Household Income Do you own a Keurig  \\\n",
       "9995                             no     Not Reported                  no   \n",
       "9996                            yes     Not Reported                 yes   \n",
       "9997                            yes     Not Reported                 yes   \n",
       "9998                             no     Not Reported                  no   \n",
       "9999                            yes     Not Reported                 yes   \n",
       "\n",
       "      How many desserts do you eat a week  Purchased  \n",
       "9995                                    5          1  \n",
       "9996                                    6          0  \n",
       "9997                                    5          0  \n",
       "9998                                    6          0  \n",
       "9999                                    7          0  "
      ]
     },
     "execution_count": 11,
     "metadata": {},
     "output_type": "execute_result"
    }
   ],
   "source": [
    "data.tail()"
   ]
  },
  {
   "cell_type": "code",
   "execution_count": 21,
   "id": "6690b1ae-029f-4d2c-ba17-094b0c284360",
   "metadata": {},
   "outputs": [
    {
     "data": {
      "text/plain": [
       "Donate ID                                        int64\n",
       "Donate Date                             datetime64[ns]\n",
       "Gender                                          object\n",
       "Deposit Amount                                   int64\n",
       "Preferred Color of Device                       object\n",
       "Ice Cream Products Consumed Per Week             int64\n",
       "Favorite Flavor Of Ice Cream                    object\n",
       "Donated To Kick Starter Before                  object\n",
       "Household Income                                object\n",
       "Do you own a Keurig                             object\n",
       "How many desserts do you eat a week              int64\n",
       "Purchased                                        int64\n",
       "dtype: object"
      ]
     },
     "execution_count": 21,
     "metadata": {},
     "output_type": "execute_result"
    }
   ],
   "source": [
    "data.dtypes"
   ]
  },
  {
   "cell_type": "code",
   "execution_count": 22,
   "id": "dfc02759-ac71-4924-a186-92e2bed9af56",
   "metadata": {},
   "outputs": [
    {
     "data": {
      "text/plain": [
       "Donate ID                               0\n",
       "Donate Date                             0\n",
       "Gender                                  0\n",
       "Deposit Amount                          0\n",
       "Preferred Color of Device               0\n",
       "Ice Cream Products Consumed Per Week    0\n",
       "Favorite Flavor Of Ice Cream            0\n",
       "Donated To Kick Starter Before          0\n",
       "Household Income                        0\n",
       "Do you own a Keurig                     0\n",
       "How many desserts do you eat a week     0\n",
       "Purchased                               0\n",
       "dtype: int64"
      ]
     },
     "execution_count": 22,
     "metadata": {},
     "output_type": "execute_result"
    }
   ],
   "source": [
    "data.isnull().sum()"
   ]
  },
  {
   "cell_type": "code",
   "execution_count": 30,
   "id": "2f9ba626-631b-43f2-bf3b-b47a94fb6b5b",
   "metadata": {},
   "outputs": [
    {
     "name": "stdout",
     "output_type": "stream",
     "text": [
      "[]\n"
     ]
    }
   ],
   "source": [
    "a= []\n",
    "for i in data.columns:\n",
    "    if type(data[i].dtypes) == 'int64':\n",
    "        a.append(i)\n",
    "print(a)        "
   ]
  },
  {
   "cell_type": "code",
   "execution_count": 31,
   "id": "7ffd5358-20e3-4ab2-9602-47d02b4e0497",
   "metadata": {},
   "outputs": [
    {
     "data": {
      "text/html": [
       "<div>\n",
       "<style scoped>\n",
       "    .dataframe tbody tr th:only-of-type {\n",
       "        vertical-align: middle;\n",
       "    }\n",
       "\n",
       "    .dataframe tbody tr th {\n",
       "        vertical-align: top;\n",
       "    }\n",
       "\n",
       "    .dataframe thead th {\n",
       "        text-align: right;\n",
       "    }\n",
       "</style>\n",
       "<table border=\"1\" class=\"dataframe\">\n",
       "  <thead>\n",
       "    <tr style=\"text-align: right;\">\n",
       "      <th></th>\n",
       "      <th>Donate ID</th>\n",
       "      <th>Deposit Amount</th>\n",
       "      <th>Ice Cream Products Consumed Per Week</th>\n",
       "      <th>How many desserts do you eat a week</th>\n",
       "      <th>Purchased</th>\n",
       "    </tr>\n",
       "  </thead>\n",
       "  <tbody>\n",
       "    <tr>\n",
       "      <th>0</th>\n",
       "      <td>1</td>\n",
       "      <td>100</td>\n",
       "      <td>4</td>\n",
       "      <td>7</td>\n",
       "      <td>0</td>\n",
       "    </tr>\n",
       "    <tr>\n",
       "      <th>1</th>\n",
       "      <td>2</td>\n",
       "      <td>100</td>\n",
       "      <td>5</td>\n",
       "      <td>5</td>\n",
       "      <td>1</td>\n",
       "    </tr>\n",
       "    <tr>\n",
       "      <th>2</th>\n",
       "      <td>3</td>\n",
       "      <td>100</td>\n",
       "      <td>6</td>\n",
       "      <td>6</td>\n",
       "      <td>1</td>\n",
       "    </tr>\n",
       "    <tr>\n",
       "      <th>3</th>\n",
       "      <td>4</td>\n",
       "      <td>100</td>\n",
       "      <td>5</td>\n",
       "      <td>5</td>\n",
       "      <td>1</td>\n",
       "    </tr>\n",
       "    <tr>\n",
       "      <th>4</th>\n",
       "      <td>5</td>\n",
       "      <td>100</td>\n",
       "      <td>1</td>\n",
       "      <td>7</td>\n",
       "      <td>0</td>\n",
       "    </tr>\n",
       "    <tr>\n",
       "      <th>...</th>\n",
       "      <td>...</td>\n",
       "      <td>...</td>\n",
       "      <td>...</td>\n",
       "      <td>...</td>\n",
       "      <td>...</td>\n",
       "    </tr>\n",
       "    <tr>\n",
       "      <th>9995</th>\n",
       "      <td>9996</td>\n",
       "      <td>100</td>\n",
       "      <td>4</td>\n",
       "      <td>5</td>\n",
       "      <td>1</td>\n",
       "    </tr>\n",
       "    <tr>\n",
       "      <th>9996</th>\n",
       "      <td>9997</td>\n",
       "      <td>100</td>\n",
       "      <td>6</td>\n",
       "      <td>6</td>\n",
       "      <td>0</td>\n",
       "    </tr>\n",
       "    <tr>\n",
       "      <th>9997</th>\n",
       "      <td>9998</td>\n",
       "      <td>0</td>\n",
       "      <td>3</td>\n",
       "      <td>5</td>\n",
       "      <td>0</td>\n",
       "    </tr>\n",
       "    <tr>\n",
       "      <th>9998</th>\n",
       "      <td>9999</td>\n",
       "      <td>0</td>\n",
       "      <td>6</td>\n",
       "      <td>6</td>\n",
       "      <td>0</td>\n",
       "    </tr>\n",
       "    <tr>\n",
       "      <th>9999</th>\n",
       "      <td>10000</td>\n",
       "      <td>1</td>\n",
       "      <td>7</td>\n",
       "      <td>7</td>\n",
       "      <td>0</td>\n",
       "    </tr>\n",
       "  </tbody>\n",
       "</table>\n",
       "<p>10000 rows × 5 columns</p>\n",
       "</div>"
      ],
      "text/plain": [
       "      Donate ID  Deposit Amount  Ice Cream Products Consumed Per Week  \\\n",
       "0             1             100                                     4   \n",
       "1             2             100                                     5   \n",
       "2             3             100                                     6   \n",
       "3             4             100                                     5   \n",
       "4             5             100                                     1   \n",
       "...         ...             ...                                   ...   \n",
       "9995       9996             100                                     4   \n",
       "9996       9997             100                                     6   \n",
       "9997       9998               0                                     3   \n",
       "9998       9999               0                                     6   \n",
       "9999      10000               1                                     7   \n",
       "\n",
       "      How many desserts do you eat a week  Purchased  \n",
       "0                                       7          0  \n",
       "1                                       5          1  \n",
       "2                                       6          1  \n",
       "3                                       5          1  \n",
       "4                                       7          0  \n",
       "...                                   ...        ...  \n",
       "9995                                    5          1  \n",
       "9996                                    6          0  \n",
       "9997                                    5          0  \n",
       "9998                                    6          0  \n",
       "9999                                    7          0  \n",
       "\n",
       "[10000 rows x 5 columns]"
      ]
     },
     "execution_count": 31,
     "metadata": {},
     "output_type": "execute_result"
    }
   ],
   "source": [
    "data.select_dtypes(include=['int'])"
   ]
  },
  {
   "cell_type": "code",
   "execution_count": 36,
   "id": "0ea1a20e-18d4-47dc-81d0-94f39b4c9ba7",
   "metadata": {},
   "outputs": [
    {
     "data": {
      "image/png": "[encoded data removed]",
      "text/plain": [
       "<Figure size 432x288 with 2 Axes>"
      ]
     },
     "metadata": {
      "needs_background": "light"
     },
     "output_type": "display_data"
    },
    {
     "name": "stdout",
     "output_type": "stream",
     "text": [
      "Donate ID                               0.018803\n",
      "Deposit Amount                          0.194643\n",
      "Ice Cream Products Consumed Per Week    0.164915\n",
      "How many desserts do you eat a week     0.189489\n",
      "Purchased                               1.000000\n",
      "Name: Purchased, dtype: float64\n"
     ]
    }
   ],
   "source": [
    "cor = data.corr()\n",
    "sns.heatmap(cor, annot=True, cmap=plt.cm.Reds)\n",
    "plt.show()\n",
    "cor_target=abs(cor[\"Purchased\"])\n",
    "relevent_features = cor_target[cor_target>0]\n",
    "print(relevent_features)"
   ]
  },
  {
   "cell_type": "code",
   "execution_count": 14,
   "id": "309e6287-4276-4c54-b454-549f78e5f6a9",
   "metadata": {},
   "outputs": [
    {
     "data": {
      "text/html": [
       "<div>\n",
       "<style scoped>\n",
       "    .dataframe tbody tr th:only-of-type {\n",
       "        vertical-align: middle;\n",
       "    }\n",
       "\n",
       "    .dataframe tbody tr th {\n",
       "        vertical-align: top;\n",
       "    }\n",
       "\n",
       "    .dataframe thead th {\n",
       "        text-align: right;\n",
       "    }\n",
       "</style>\n",
       "<table border=\"1\" class=\"dataframe\">\n",
       "  <thead>\n",
       "    <tr style=\"text-align: right;\">\n",
       "      <th></th>\n",
       "      <th>Donate ID</th>\n",
       "      <th>Deposit Amount</th>\n",
       "      <th>Ice Cream Products Consumed Per Week</th>\n",
       "      <th>How many desserts do you eat a week</th>\n",
       "      <th>Purchased</th>\n",
       "    </tr>\n",
       "  </thead>\n",
       "  <tbody>\n",
       "    <tr>\n",
       "      <th>count</th>\n",
       "      <td>10000.00000</td>\n",
       "      <td>10000.000000</td>\n",
       "      <td>10000.000000</td>\n",
       "      <td>10000.000000</td>\n",
       "      <td>10000.000000</td>\n",
       "    </tr>\n",
       "    <tr>\n",
       "      <th>mean</th>\n",
       "      <td>5000.50000</td>\n",
       "      <td>139.515800</td>\n",
       "      <td>4.962300</td>\n",
       "      <td>6.686800</td>\n",
       "      <td>0.651300</td>\n",
       "    </tr>\n",
       "    <tr>\n",
       "      <th>std</th>\n",
       "      <td>2886.89568</td>\n",
       "      <td>80.483091</td>\n",
       "      <td>3.165293</td>\n",
       "      <td>2.460592</td>\n",
       "      <td>0.476583</td>\n",
       "    </tr>\n",
       "    <tr>\n",
       "      <th>min</th>\n",
       "      <td>1.00000</td>\n",
       "      <td>0.000000</td>\n",
       "      <td>0.000000</td>\n",
       "      <td>0.000000</td>\n",
       "      <td>0.000000</td>\n",
       "    </tr>\n",
       "    <tr>\n",
       "      <th>25%</th>\n",
       "      <td>2500.75000</td>\n",
       "      <td>100.000000</td>\n",
       "      <td>2.000000</td>\n",
       "      <td>5.000000</td>\n",
       "      <td>0.000000</td>\n",
       "    </tr>\n",
       "    <tr>\n",
       "      <th>50%</th>\n",
       "      <td>5000.50000</td>\n",
       "      <td>100.000000</td>\n",
       "      <td>5.000000</td>\n",
       "      <td>7.000000</td>\n",
       "      <td>1.000000</td>\n",
       "    </tr>\n",
       "    <tr>\n",
       "      <th>75%</th>\n",
       "      <td>7500.25000</td>\n",
       "      <td>119.000000</td>\n",
       "      <td>8.000000</td>\n",
       "      <td>9.000000</td>\n",
       "      <td>1.000000</td>\n",
       "    </tr>\n",
       "    <tr>\n",
       "      <th>max</th>\n",
       "      <td>10000.00000</td>\n",
       "      <td>400.000000</td>\n",
       "      <td>10.000000</td>\n",
       "      <td>10.000000</td>\n",
       "      <td>1.000000</td>\n",
       "    </tr>\n",
       "  </tbody>\n",
       "</table>\n",
       "</div>"
      ],
      "text/plain": [
       "         Donate ID  Deposit Amount  Ice Cream Products Consumed Per Week  \\\n",
       "count  10000.00000    10000.000000                          10000.000000   \n",
       "mean    5000.50000      139.515800                              4.962300   \n",
       "std     2886.89568       80.483091                              3.165293   \n",
       "min        1.00000        0.000000                              0.000000   \n",
       "25%     2500.75000      100.000000                              2.000000   \n",
       "50%     5000.50000      100.000000                              5.000000   \n",
       "75%     7500.25000      119.000000                              8.000000   \n",
       "max    10000.00000      400.000000                             10.000000   \n",
       "\n",
       "       How many desserts do you eat a week     Purchased  \n",
       "count                         10000.000000  10000.000000  \n",
       "mean                              6.686800      0.651300  \n",
       "std                               2.460592      0.476583  \n",
       "min                               0.000000      0.000000  \n",
       "25%                               5.000000      0.000000  \n",
       "50%                               7.000000      1.000000  \n",
       "75%                               9.000000      1.000000  \n",
       "max                              10.000000      1.000000  "
      ]
     },
     "execution_count": 14,
     "metadata": {},
     "output_type": "execute_result"
    }
   ],
   "source": [
    "data.describe()"
   ]
  },
  {
   "cell_type": "code",
   "execution_count": 16,
   "id": "04de0606-07b1-4998-8f94-d3e7445a76d4",
   "metadata": {},
   "outputs": [
    {
     "data": {
      "text/plain": [
       "Index(['Donate ID', 'Donate Date', 'Gender', 'Deposit Amount',\n",
       "       'Preferred Color of Device', 'Ice Cream Products Consumed Per Week',\n",
       "       'Favorite Flavor Of Ice Cream', 'Donated To Kick Starter Before',\n",
       "       'Household Income', 'Do you own a Keurig',\n",
       "       'How many desserts do you eat a week', 'Purchased'],\n",
       "      dtype='object')"
      ]
     },
     "execution_count": 16,
     "metadata": {},
     "output_type": "execute_result"
    }
   ],
   "source": [
    "data.columns"
   ]
  },
  {
   "cell_type": "code",
   "execution_count": 18,
   "id": "58217974-ba8e-4154-9d0a-a9074f53b0e8",
   "metadata": {},
   "outputs": [
    {
     "data": {
      "text/plain": [
       "Donate ID                               10000\n",
       "Donate Date                                 7\n",
       "Gender                                      2\n",
       "Deposit Amount                            302\n",
       "Preferred Color of Device                   6\n",
       "Ice Cream Products Consumed Per Week       11\n",
       "Favorite Flavor Of Ice Cream                5\n",
       "Donated To Kick Starter Before              2\n",
       "Household Income                            4\n",
       "Do you own a Keurig                         2\n",
       "How many desserts do you eat a week        11\n",
       "Purchased                                   2\n",
       "dtype: int64"
      ]
     },
     "execution_count": 18,
     "metadata": {},
     "output_type": "execute_result"
    }
   ],
   "source": [
    "data.nunique()"
   ]
  },
  {
   "cell_type": "code",
   "execution_count": 19,
   "id": "b2b3b412-479f-4392-a3c0-8570015bacbd",
   "metadata": {},
   "outputs": [
    {
     "data": {
      "text/plain": [
       "Donate ID                               0\n",
       "Donate Date                             0\n",
       "Gender                                  0\n",
       "Deposit Amount                          0\n",
       "Preferred Color of Device               0\n",
       "Ice Cream Products Consumed Per Week    0\n",
       "Favorite Flavor Of Ice Cream            0\n",
       "Donated To Kick Starter Before          0\n",
       "Household Income                        0\n",
       "Do you own a Keurig                     0\n",
       "How many desserts do you eat a week     0\n",
       "Purchased                               0\n",
       "dtype: int64"
      ]
     },
     "execution_count": 19,
     "metadata": {},
     "output_type": "execute_result"
    }
   ],
   "source": [
    "data.isnull().sum()"
   ]
  },
  {
   "cell_type": "code",
   "execution_count": 41,
   "id": "5ae8076f-9e77-416d-bfd9-6108d7067e3b",
   "metadata": {},
   "outputs": [
    {
     "name": "stdout",
     "output_type": "stream",
     "text": [
      "<bound method DataFrame.info of       Donate ID Donate Date  Gender  Deposit Amount  \\\n",
      "0             1  2019-07-01       0             100   \n",
      "1             2  2019-07-01       0             100   \n",
      "2             3  2019-07-01       0             100   \n",
      "3             4  2019-07-01       0             100   \n",
      "4             5  2019-07-01       1             100   \n",
      "...         ...         ...     ...             ...   \n",
      "9995       9996  2019-07-09       1             100   \n",
      "9996       9997  2019-07-09       1             100   \n",
      "9997       9998  2019-07-09       1               0   \n",
      "9998       9999  2019-07-09       1               0   \n",
      "9999      10000  2019-07-09       1               1   \n",
      "\n",
      "      Preferred Color of Device  Ice Cream Products Consumed Per Week  \\\n",
      "0                             5                                     4   \n",
      "1                             1                                     5   \n",
      "2                             4                                     6   \n",
      "3                             4                                     5   \n",
      "4                             5                                     1   \n",
      "...                         ...                                   ...   \n",
      "9995                          0                                     4   \n",
      "9996                          4                                     6   \n",
      "9997                          1                                     3   \n",
      "9998                          1                                     6   \n",
      "9999                          0                                     7   \n",
      "\n",
      "      Favorite Flavor Of Ice Cream  Donated To Kick Starter Before  \\\n",
      "0                                4                               1   \n",
      "1                                4                               1   \n",
      "2                                4                               1   \n",
      "3                                4                               1   \n",
      "4                                4                               1   \n",
      "...                            ...                             ...   \n",
      "9995                             0                               0   \n",
      "9996                             1                               1   \n",
      "9997                             0                               1   \n",
      "9998                             4                               0   \n",
      "9999                             0                               1   \n",
      "\n",
      "      Household Income  Do you own a Keurig  \\\n",
      "0                    1                    1   \n",
      "1                    1                    1   \n",
      "2                    1                    1   \n",
      "3                    1                    1   \n",
      "4                    1                    1   \n",
      "...                ...                  ...   \n",
      "9995                 3                    0   \n",
      "9996                 3                    1   \n",
      "9997                 3                    1   \n",
      "9998                 3                    0   \n",
      "9999                 3                    1   \n",
      "\n",
      "      How many desserts do you eat a week  Purchased  \n",
      "0                                       7          0  \n",
      "1                                       5          1  \n",
      "2                                       6          1  \n",
      "3                                       5          1  \n",
      "4                                       7          0  \n",
      "...                                   ...        ...  \n",
      "9995                                    5          1  \n",
      "9996                                    6          0  \n",
      "9997                                    5          0  \n",
      "9998                                    6          0  \n",
      "9999                                    7          0  \n",
      "\n",
      "[10000 rows x 12 columns]>\n"
     ]
    }
   ],
   "source": [
    "from sklearn.preprocessing import LabelEncoder\n",
    "obj_col = []\n",
    "for col in data.columns: \n",
    "    if(data[col].dtype == object):\n",
    "        obj_col.append(col)\n",
    "           \n",
    "labelencoder = LabelEncoder()\n",
    "for i in obj_col:\n",
    "    data[i] = labelencoder.fit_transform(data[i].astype(str))   \n",
    "print(data.info)"
   ]
  },
  {
   "cell_type": "code",
   "execution_count": 72,
   "id": "ad8133aa-2254-4465-906a-4c810e93cfc8",
   "metadata": {},
   "outputs": [],
   "source": [
    "#Segrigating Features and Target variable\n",
    "x=data.drop(['Purchased','Donate Date'],axis=1)\n",
    "y=data['Purchased']"
   ]
  },
  {
   "cell_type": "code",
   "execution_count": 73,
   "id": "2feac7f8-1b0d-4b1d-8208-77b756d1a031",
   "metadata": {},
   "outputs": [],
   "source": [
    "from sklearn.model_selection import train_test_split\n",
    "train_features, test_features, train_labels, test_labels = train_test_split(x, y, test_size = 0.3, random_state = 42)\n"
   ]
  },
  {
   "cell_type": "code",
   "execution_count": 108,
   "id": "077333ca-6017-4a0d-aa2c-47b0cee0889a",
   "metadata": {},
   "outputs": [
    {
     "name": "stdout",
     "output_type": "stream",
     "text": [
      "              precision    recall  f1-score   support\n",
      "\n",
      "           0       0.57      0.28      0.38      1038\n",
      "           1       0.70      0.89      0.78      1962\n",
      "\n",
      "    accuracy                           0.68      3000\n",
      "   macro avg       0.64      0.58      0.58      3000\n",
      "weighted avg       0.66      0.68      0.64      3000\n",
      "\n",
      "Time:  0.10164283299673116\n"
     ]
    }
   ],
   "source": [
    "import timeit\n",
    "start = timeit.default_timer()\n",
    "from sklearn.linear_model import LogisticRegression\n",
    "from sklearn.metrics import classification_report, confusion_matrix\n",
    "\n",
    "logreg = LogisticRegression(max_iter=1000)\n",
    "logreg.fit(train_features, train_labels)\n",
    "y_pred=logreg.predict(test_features)\n",
    "print(classification_report(test_labels, y_pred))\n",
    "stop = timeit.default_timer()\n",
    "print('Time: ', stop - start)"
   ]
  },
  {
   "cell_type": "code",
   "execution_count": 109,
   "id": "caf3cb9e-3a39-40d5-979c-e0446e8622d0",
   "metadata": {},
   "outputs": [
    {
     "data": {
      "text/plain": [
       "Donate ID                               int64\n",
       "Gender                                  int64\n",
       "Deposit Amount                          int64\n",
       "Preferred Color of Device               int64\n",
       "Ice Cream Products Consumed Per Week    int64\n",
       "Favorite Flavor Of Ice Cream            int64\n",
       "Donated To Kick Starter Before          int64\n",
       "Household Income                        int64\n",
       "Do you own a Keurig                     int64\n",
       "How many desserts do you eat a week     int64\n",
       "dtype: object"
      ]
     },
     "execution_count": 109,
     "metadata": {},
     "output_type": "execute_result"
    }
   ],
   "source": [
    "train_features.dtypes"
   ]
  },
  {
   "cell_type": "code",
   "execution_count": 110,
   "id": "8777ca60-0a8c-49f8-ac72-405111586755",
   "metadata": {},
   "outputs": [
    {
     "name": "stdout",
     "output_type": "stream",
     "text": [
      "Mean Absolute Error: 0.32 degrees.\n",
      "Confusion Matrix:\n",
      "[[ 290  748]\n",
      " [ 216 1746]]\n",
      "Accuracy: 0.6786666666666666\n",
      "Precision: 0.7000801924619086\n",
      "Recall: 0.8899082568807339\n"
     ]
    }
   ],
   "source": [
    "from sklearn.metrics import confusion_matrix, roc_auc_score, accuracy_score, precision_score, recall_score, roc_curve\n",
    "errors = abs(y_pred - test_labels)\n",
    "print('Mean Absolute Error:', round(np.mean(errors), 2), 'degrees.')\n",
    "cnf_matrix = confusion_matrix(test_labels, y_pred)\n",
    "print(\"Confusion Matrix:\")\n",
    "print(cnf_matrix)\n",
    "print(\"Accuracy:\",accuracy_score(test_labels, y_pred))\n",
    "print(\"Precision:\",precision_score(test_labels, y_pred))\n",
    "print(\"Recall:\",recall_score(test_labels, y_pred))"
   ]
  },
  {
   "cell_type": "code",
   "execution_count": 111,
   "id": "36a032f8-6325-4919-8d6b-a157d8179cc9",
   "metadata": {},
   "outputs": [
    {
     "name": "stdout",
     "output_type": "stream",
     "text": [
      "0.701462174376742\n"
     ]
    },
    {
     "data": {
      "image/png": "[encoded data removed]",
      "text/plain": [
       "<Figure size 432x288 with 1 Axes>"
      ]
     },
     "metadata": {
      "needs_background": "light"
     },
     "output_type": "display_data"
    }
   ],
   "source": [
    "y_pred_proba = logreg.predict_proba(test_features)[::,1]\n",
    "fpr, tpr, _ = roc_curve(test_labels,  y_pred_proba)\n",
    "auc = roc_auc_score(test_labels, y_pred_proba)\n",
    "print(auc)\n",
    "plt.plot(fpr,tpr,label=\"data 1, auc=\"+str(auc))\n",
    "plt.legend(loc=4)\n",
    "plt.title(\"ROC_AUC Curve\")\n",
    "plt.xlabel(\"False Positive Rate\")\n",
    "plt.ylabel(\"True Positive Rate\")\n",
    "plt.show()"
   ]
  },
  {
   "cell_type": "code",
   "execution_count": 112,
   "id": "ed1e5a7d-2493-4738-b36b-3c182e52eb09",
   "metadata": {},
   "outputs": [
    {
     "data": {
      "text/plain": [
       "RandomForestClassifier(n_estimators=200, random_state=42)"
      ]
     },
     "execution_count": 112,
     "metadata": {},
     "output_type": "execute_result"
    }
   ],
   "source": [
    "import timeit\n",
    "start = timeit.default_timer()\n",
    "from sklearn.ensemble import RandomForestClassifier\n",
    "rf = RandomForestClassifier(n_estimators = 200, random_state=42)\n",
    "rf.fit(train_features, train_labels)"
   ]
  },
  {
   "cell_type": "code",
   "execution_count": 113,
   "id": "903b488a-9cd7-421c-b30d-2ee023a33c49",
   "metadata": {},
   "outputs": [
    {
     "name": "stdout",
     "output_type": "stream",
     "text": [
      "              precision    recall  f1-score   support\n",
      "\n",
      "           0       0.82      0.86      0.84      1038\n",
      "           1       0.92      0.90      0.91      1962\n",
      "\n",
      "    accuracy                           0.89      3000\n",
      "   macro avg       0.87      0.88      0.88      3000\n",
      "weighted avg       0.89      0.89      0.89      3000\n",
      "\n",
      "Time:  1.384212999997544\n"
     ]
    }
   ],
   "source": [
    "predictions = rf.predict(test_features)\n",
    "print(classification_report(test_labels, predictions))\n",
    "stop = timeit.default_timer()\n",
    "print('Time: ', stop - start)"
   ]
  },
  {
   "cell_type": "code",
   "execution_count": 114,
   "id": "6f120c8b-1d83-49ea-964b-bcd6a9eccd91",
   "metadata": {},
   "outputs": [
    {
     "name": "stdout",
     "output_type": "stream",
     "text": [
      "Mean Absolute Error: 0.11 degrees.\n",
      "Confusion Matrix:\n",
      "[[ 890  148]\n",
      " [ 190 1772]]\n",
      "Accuracy: 0.8873333333333333\n",
      "Precision: 0.9229166666666667\n",
      "Recall: 0.9031600407747197\n"
     ]
    }
   ],
   "source": [
    "errors = abs(predictions - test_labels)\n",
    "print('Mean Absolute Error:', round(np.mean(errors), 2), 'degrees.')\n",
    "conf = confusion_matrix(test_labels,predictions)\n",
    "print(\"Confusion Matrix:\")\n",
    "print(conf)\n",
    "print(\"Accuracy:\",accuracy_score(test_labels, predictions))\n",
    "print(\"Precision:\",precision_score(test_labels, predictions))\n",
    "print(\"Recall:\",recall_score(test_labels, predictions))"
   ]
  },
  {
   "cell_type": "code",
   "execution_count": 89,
   "id": "c75c7445-c858-46d5-a1a2-52dcc8c66367",
   "metadata": {},
   "outputs": [
    {
     "name": "stdout",
     "output_type": "stream",
     "text": [
      "Variable: Preferred Color of Device Importance: 0.24\n",
      "Variable: Donate ID            Importance: 0.18\n",
      "Variable: Favorite Flavor Of Ice Cream Importance: 0.15\n",
      "Variable: How many desserts do you eat a week Importance: 0.1\n",
      "Variable: Deposit Amount       Importance: 0.09\n",
      "Variable: Ice Cream Products Consumed Per Week Importance: 0.09\n",
      "Variable: Household Income     Importance: 0.09\n",
      "Variable: Gender               Importance: 0.03\n",
      "Variable: Donated To Kick Starter Before Importance: 0.03\n",
      "Variable: Do you own a Keurig  Importance: 0.01\n"
     ]
    }
   ],
   "source": [
    "importances = list(rf.feature_importances_)\n",
    "feature_importances = [(feature, round(importance, 2)) for feature, importance in zip(x.columns, importances)]\n",
    "feature_importances = sorted(feature_importances, key = lambda x: x[1], reverse = True) \n",
    "[print('Variable: {:20} Importance: {}'.format(*pair)) for pair in feature_importances];"
   ]
  },
  {
   "cell_type": "code",
   "execution_count": 95,
   "id": "2d81becd-83ce-4463-9080-64f1f12ff7ca",
   "metadata": {},
   "outputs": [
    {
     "name": "stdout",
     "output_type": "stream",
     "text": [
      "0.8663199047804235\n"
     ]
    },
    {
     "data": {
      "image/png": "[encoded data removed]",
      "text/plain": [
       "<Figure size 432x288 with 1 Axes>"
      ]
     },
     "metadata": {
      "needs_background": "light"
     },
     "output_type": "display_data"
    }
   ],
   "source": [
    "y_pred_proba = rf.predict_proba(test_features)[::,1]\n",
    "fpr, tpr, _ = roc_curve(test_labels,  y_pred_proba)\n",
    "auc = roc_auc_score(test_labels, y_pred_proba)\n",
    "print(auc)\n",
    "plt.plot(fpr,tpr,label=\"data 1, auc=\"+str(auc))\n",
    "plt.legend(loc=4)\n",
    "plt.title(\"ROC_AUC Curve\")\n",
    "plt.xlabel(\"False Positive Rate\")\n",
    "plt.ylabel(\"True Positive Rate\")\n",
    "plt.show()"
   ]
  },
  {
   "cell_type": "code",
   "execution_count": 96,
   "id": "d3cf533a-44cc-4246-80e9-1274cd121257",
   "metadata": {},
   "outputs": [
    {
     "data": {
      "text/plain": [
       "DecisionTreeClassifier(random_state=42)"
      ]
     },
     "execution_count": 96,
     "metadata": {},
     "output_type": "execute_result"
    }
   ],
   "source": [
    "# decision tree\n",
    "\n",
    "import timeit\n",
    "start = timeit.default_timer()\n",
    "from sklearn.tree import DecisionTreeClassifier\n",
    "rf = DecisionTreeClassifier(random_state=42)\n",
    "rf.fit(train_features, train_labels)"
   ]
  },
  {
   "cell_type": "code",
   "execution_count": 97,
   "id": "1a94fef3-4804-4e19-a7ab-0314181a3872",
   "metadata": {},
   "outputs": [
    {
     "name": "stdout",
     "output_type": "stream",
     "text": [
      "              precision    recall  f1-score   support\n",
      "\n",
      "           0       0.82      0.83      0.82      1038\n",
      "           1       0.91      0.90      0.91      1962\n",
      "\n",
      "    accuracy                           0.88      3000\n",
      "   macro avg       0.86      0.87      0.87      3000\n",
      "weighted avg       0.88      0.88      0.88      3000\n",
      "\n",
      "Time:  2.2003842080011964\n"
     ]
    }
   ],
   "source": [
    "predictions = rf.predict(test_features)\n",
    "print(classification_report(test_labels, predictions))\n",
    "stop = timeit.default_timer()\n",
    "print('Time: ', stop - start)"
   ]
  },
  {
   "cell_type": "code",
   "execution_count": 98,
   "id": "92859500-4eb2-47c5-99eb-4c6a5141774e",
   "metadata": {},
   "outputs": [
    {
     "name": "stdout",
     "output_type": "stream",
     "text": [
      "Mean Absolute Error: 0.12 degrees.\n",
      "Confusion Matrix:\n",
      "[[ 861  177]\n",
      " [ 190 1772]]\n",
      "Accuracy: 0.8776666666666667\n",
      "Precision: 0.9091841970241149\n",
      "Recall: 0.9031600407747197\n"
     ]
    }
   ],
   "source": [
    "errors = abs(predictions - test_labels)\n",
    "print('Mean Absolute Error:', round(np.mean(errors), 2), 'degrees.')\n",
    "conf = confusion_matrix(test_labels,predictions)\n",
    "print(\"Confusion Matrix:\")\n",
    "print(conf)\n",
    "print(\"Accuracy:\",accuracy_score(test_labels, predictions))\n",
    "print(\"Precision:\",precision_score(test_labels, predictions))\n",
    "print(\"Recall:\",recall_score(test_labels, predictions))"
   ]
  },
  {
   "cell_type": "code",
   "execution_count": 99,
   "id": "f9060d99-5bc2-4bd9-b0a8-0f4fa5541107",
   "metadata": {},
   "outputs": [
    {
     "name": "stdout",
     "output_type": "stream",
     "text": [
      "Variable: Preferred Color of Device Importance: 0.24\n",
      "Variable: Donate ID            Importance: 0.16\n",
      "Variable: Household Income     Importance: 0.15\n",
      "Variable: Favorite Flavor Of Ice Cream Importance: 0.13\n",
      "Variable: Deposit Amount       Importance: 0.09\n",
      "Variable: How many desserts do you eat a week Importance: 0.09\n",
      "Variable: Ice Cream Products Consumed Per Week Importance: 0.07\n",
      "Variable: Gender               Importance: 0.03\n",
      "Variable: Donated To Kick Starter Before Importance: 0.03\n",
      "Variable: Do you own a Keurig  Importance: 0.01\n"
     ]
    }
   ],
   "source": [
    "importances = list(rf.feature_importances_)\n",
    "feature_importances = [(feature, round(importance, 2)) for feature, importance in zip(x.columns, importances)]\n",
    "feature_importances = sorted(feature_importances, key = lambda x: x[1], reverse = True) \n",
    "[print('Variable: {:20} Importance: {}'.format(*pair)) for pair in feature_importances];"
   ]
  },
  {
   "cell_type": "code",
   "execution_count": 100,
   "id": "4c1775c2-ea94-4f1b-b796-7ba4398915d1",
   "metadata": {},
   "outputs": [
    {
     "name": "stdout",
     "output_type": "stream",
     "text": [
      "0.8663199047804235\n"
     ]
    },
    {
     "data": {
      "image/png": "[encoded data removed]",
      "text/plain": [
       "<Figure size 432x288 with 1 Axes>"
      ]
     },
     "metadata": {
      "needs_background": "light"
     },
     "output_type": "display_data"
    }
   ],
   "source": [
    "y_pred_proba = rf.predict_proba(test_features)[::,1]\n",
    "fpr, tpr, _ = roc_curve(test_labels,  y_pred_proba)\n",
    "auc = roc_auc_score(test_labels, y_pred_proba)\n",
    "print(auc)\n",
    "plt.plot(fpr,tpr,label=\"data 1, auc=\"+str(auc))\n",
    "plt.legend(loc=4)\n",
    "plt.title(\"ROC_AUC Curve\")\n",
    "plt.xlabel(\"False Positive Rate\")\n",
    "plt.ylabel(\"True Positive Rate\")\n",
    "plt.show()"
   ]
  },
  {
   "cell_type": "code",
   "execution_count": null,
   "id": "4c97f07d-035b-413b-94c1-1fd29d0d0acf",
   "metadata": {},
   "outputs": [],
   "source": []
  }
 ],
 "metadata": {
  "kernelspec": {
   "display_name": "Python 3",
   "language": "python",
   "name": "python3"
  },
  "language_info": {
   "codemirror_mode": {
    "name": "ipython",
    "version": 3
   },
   "file_extension": ".py",
   "mimetype": "text/x-python",
   "name": "python",
   "nbconvert_exporter": "python",
   "pygments_lexer": "ipython3",
   "version": "3.8.8"
  }
 },
 "nbformat": 4,
 "nbformat_minor": 5
}
